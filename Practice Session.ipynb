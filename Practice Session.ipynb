{
 "cells": [
  {
   "cell_type": "markdown",
   "id": "7275fa2f",
   "metadata": {},
   "source": [
    "# Data Type"
   ]
  },
  {
   "cell_type": "markdown",
   "id": "48d6dc83",
   "metadata": {},
   "source": [
    "int -> 0,1,2,3...-1,-2,-3"
   ]
  },
  {
   "cell_type": "code",
   "execution_count": null,
   "id": "03aebb05",
   "metadata": {},
   "outputs": [],
   "source": [
    "6.8 --> Float"
   ]
  },
  {
   "cell_type": "code",
   "execution_count": null,
   "id": "00601762",
   "metadata": {},
   "outputs": [],
   "source": [
    "String -> \"Saurabh\", 'akansha','a','b'\n",
    "\n"
   ]
  },
  {
   "cell_type": "code",
   "execution_count": null,
   "id": "2040738e",
   "metadata": {},
   "outputs": [],
   "source": [
    "list tuple set dict "
   ]
  },
  {
   "cell_type": "markdown",
   "id": "2d776372",
   "metadata": {},
   "source": [
    "Conserversion"
   ]
  },
  {
   "cell_type": "code",
   "execution_count": 1,
   "id": "0dfefc8c",
   "metadata": {},
   "outputs": [
    {
     "data": {
      "text/plain": [
       "float"
      ]
     },
     "execution_count": 1,
     "metadata": {},
     "output_type": "execute_result"
    }
   ],
   "source": [
    "type(6.8)"
   ]
  },
  {
   "cell_type": "code",
   "execution_count": 2,
   "id": "bff6c599",
   "metadata": {},
   "outputs": [
    {
     "data": {
      "text/plain": [
       "6"
      ]
     },
     "execution_count": 2,
     "metadata": {},
     "output_type": "execute_result"
    }
   ],
   "source": [
    "int(6.8)"
   ]
  },
  {
   "cell_type": "code",
   "execution_count": 3,
   "id": "778544a2",
   "metadata": {},
   "outputs": [
    {
     "data": {
      "text/plain": [
       "6.0"
      ]
     },
     "execution_count": 3,
     "metadata": {},
     "output_type": "execute_result"
    }
   ],
   "source": [
    "float(6)"
   ]
  },
  {
   "cell_type": "code",
   "execution_count": null,
   "id": "2f46c655",
   "metadata": {},
   "outputs": [],
   "source": [
    "list\n",
    "\n",
    "[1, 2 , 5, 5, 5.2, 'Rahul']\n",
    "\n",
    "tuple\n",
    "(1, 2, 5, ['list',5], 5.0)\n",
    "\n",
    "dict\n",
    "{key: value}\n",
    "#key should be immutable\n",
    "set\n"
   ]
  },
  {
   "cell_type": "code",
   "execution_count": 4,
   "id": "a8085689",
   "metadata": {},
   "outputs": [],
   "source": [
    "a = 23"
   ]
  },
  {
   "cell_type": "code",
   "execution_count": 5,
   "id": "6535a544",
   "metadata": {},
   "outputs": [
    {
     "data": {
      "text/plain": [
       "2081881025520"
      ]
     },
     "execution_count": 5,
     "metadata": {},
     "output_type": "execute_result"
    }
   ],
   "source": [
    "id(a)"
   ]
  },
  {
   "cell_type": "code",
   "execution_count": 6,
   "id": "a2a3dc8d",
   "metadata": {},
   "outputs": [],
   "source": [
    "a = 54"
   ]
  },
  {
   "cell_type": "code",
   "execution_count": 7,
   "id": "b004aaab",
   "metadata": {},
   "outputs": [
    {
     "data": {
      "text/plain": [
       "2081881026512"
      ]
     },
     "execution_count": 7,
     "metadata": {},
     "output_type": "execute_result"
    }
   ],
   "source": [
    "id(a)"
   ]
  },
  {
   "cell_type": "code",
   "execution_count": null,
   "id": "2de2ba08",
   "metadata": {},
   "outputs": [],
   "source": [
    "immutable\n",
    "tuple\n",
    "str\n",
    "float\n",
    "int\n",
    "bool\n",
    "complex\n",
    "..."
   ]
  },
  {
   "cell_type": "code",
   "execution_count": null,
   "id": "93c24e76",
   "metadata": {},
   "outputs": [],
   "source": [
    "mutable\n"
   ]
  },
  {
   "cell_type": "code",
   "execution_count": 8,
   "id": "379b4080",
   "metadata": {},
   "outputs": [],
   "source": [
    "l = [2,'Divya','saurabh']\n",
    "l.append(5)"
   ]
  },
  {
   "cell_type": "code",
   "execution_count": 9,
   "id": "340c610e",
   "metadata": {},
   "outputs": [
    {
     "data": {
      "text/plain": [
       "[2, 'Divya', 'saurabh', 5]"
      ]
     },
     "execution_count": 9,
     "metadata": {},
     "output_type": "execute_result"
    }
   ],
   "source": [
    "l"
   ]
  },
  {
   "cell_type": "code",
   "execution_count": 10,
   "id": "ce5b01b1",
   "metadata": {},
   "outputs": [],
   "source": [
    "t = tuple(l)"
   ]
  },
  {
   "cell_type": "code",
   "execution_count": 11,
   "id": "b4697282",
   "metadata": {},
   "outputs": [
    {
     "data": {
      "text/plain": [
       "tuple"
      ]
     },
     "execution_count": 11,
     "metadata": {},
     "output_type": "execute_result"
    }
   ],
   "source": [
    "type(t)"
   ]
  },
  {
   "cell_type": "code",
   "execution_count": 12,
   "id": "b5960030",
   "metadata": {},
   "outputs": [
    {
     "ename": "AttributeError",
     "evalue": "'tuple' object has no attribute 'append'",
     "output_type": "error",
     "traceback": [
      "\u001b[1;31m---------------------------------------------------------------------------\u001b[0m",
      "\u001b[1;31mAttributeError\u001b[0m                            Traceback (most recent call last)",
      "\u001b[1;32mC:\\Users\\KUNALC~1\\AppData\\Local\\Temp/ipykernel_17460/1165891167.py\u001b[0m in \u001b[0;36m<module>\u001b[1;34m\u001b[0m\n\u001b[1;32m----> 1\u001b[1;33m \u001b[0mt\u001b[0m\u001b[1;33m.\u001b[0m\u001b[0mappend\u001b[0m\u001b[1;33m(\u001b[0m\u001b[1;36m5\u001b[0m\u001b[1;33m)\u001b[0m\u001b[1;33m\u001b[0m\u001b[1;33m\u001b[0m\u001b[0m\n\u001b[0m",
      "\u001b[1;31mAttributeError\u001b[0m: 'tuple' object has no attribute 'append'"
     ]
    }
   ],
   "source": [
    "t.append(5)"
   ]
  },
  {
   "cell_type": "code",
   "execution_count": 14,
   "id": "558df912",
   "metadata": {},
   "outputs": [
    {
     "ename": "TypeError",
     "evalue": "can only concatenate tuple (not \"int\") to tuple",
     "output_type": "error",
     "traceback": [
      "\u001b[1;31m---------------------------------------------------------------------------\u001b[0m",
      "\u001b[1;31mTypeError\u001b[0m                                 Traceback (most recent call last)",
      "\u001b[1;32mC:\\Users\\KUNALC~1\\AppData\\Local\\Temp/ipykernel_17460/103825300.py\u001b[0m in \u001b[0;36m<module>\u001b[1;34m\u001b[0m\n\u001b[1;32m----> 1\u001b[1;33m \u001b[0mt\u001b[0m \u001b[1;33m=\u001b[0m \u001b[0mt\u001b[0m \u001b[1;33m+\u001b[0m \u001b[1;36m200\u001b[0m\u001b[1;33m\u001b[0m\u001b[1;33m\u001b[0m\u001b[0m\n\u001b[0m",
      "\u001b[1;31mTypeError\u001b[0m: can only concatenate tuple (not \"int\") to tuple"
     ]
    }
   ],
   "source": [
    "t = t + 200"
   ]
  },
  {
   "cell_type": "code",
   "execution_count": 20,
   "id": "387f4259",
   "metadata": {},
   "outputs": [],
   "source": [
    "t = (\"pavan\", 'Akansha', 'kunal')"
   ]
  },
  {
   "cell_type": "code",
   "execution_count": 22,
   "id": "10c5ab08",
   "metadata": {},
   "outputs": [
    {
     "data": {
      "text/plain": [
       "2081954186688"
      ]
     },
     "execution_count": 22,
     "metadata": {},
     "output_type": "execute_result"
    }
   ],
   "source": [
    "id(t)"
   ]
  },
  {
   "cell_type": "code",
   "execution_count": 23,
   "id": "29928bd4",
   "metadata": {},
   "outputs": [],
   "source": [
    "t = list(t)"
   ]
  },
  {
   "cell_type": "code",
   "execution_count": 24,
   "id": "01b66f50",
   "metadata": {},
   "outputs": [],
   "source": [
    "t.append('aditya')"
   ]
  },
  {
   "cell_type": "code",
   "execution_count": 25,
   "id": "4c31605d",
   "metadata": {},
   "outputs": [],
   "source": [
    "t = tuple(t)"
   ]
  },
  {
   "cell_type": "code",
   "execution_count": 26,
   "id": "822a4eb7",
   "metadata": {},
   "outputs": [
    {
     "data": {
      "text/plain": [
       "2081954650448"
      ]
     },
     "execution_count": 26,
     "metadata": {},
     "output_type": "execute_result"
    }
   ],
   "source": [
    "id(t)"
   ]
  },
  {
   "cell_type": "markdown",
   "id": "789a35cc",
   "metadata": {},
   "source": [
    "# `airthmatic operator`\n",
    "\n",
    "addition sub mul div\n"
   ]
  },
  {
   "cell_type": "code",
   "execution_count": 27,
   "id": "364ba770",
   "metadata": {},
   "outputs": [],
   "source": [
    "a = 23\n",
    "b = 24"
   ]
  },
  {
   "cell_type": "code",
   "execution_count": 28,
   "id": "2ad51f9a",
   "metadata": {},
   "outputs": [
    {
     "data": {
      "text/plain": [
       "47"
      ]
     },
     "execution_count": 28,
     "metadata": {},
     "output_type": "execute_result"
    }
   ],
   "source": [
    "a + b"
   ]
  },
  {
   "cell_type": "code",
   "execution_count": 29,
   "id": "82cf1e19",
   "metadata": {},
   "outputs": [
    {
     "data": {
      "text/plain": [
       "-1"
      ]
     },
     "execution_count": 29,
     "metadata": {},
     "output_type": "execute_result"
    }
   ],
   "source": [
    "a - b"
   ]
  },
  {
   "cell_type": "code",
   "execution_count": 30,
   "id": "807068d0",
   "metadata": {},
   "outputs": [
    {
     "data": {
      "text/plain": [
       "552"
      ]
     },
     "execution_count": 30,
     "metadata": {},
     "output_type": "execute_result"
    }
   ],
   "source": [
    "a * b"
   ]
  },
  {
   "cell_type": "code",
   "execution_count": 31,
   "id": "bce6dfa3",
   "metadata": {},
   "outputs": [
    {
     "data": {
      "text/plain": [
       "0.9583333333333334"
      ]
     },
     "execution_count": 31,
     "metadata": {},
     "output_type": "execute_result"
    }
   ],
   "source": [
    "a / b"
   ]
  },
  {
   "cell_type": "code",
   "execution_count": 32,
   "id": "c2d119f9",
   "metadata": {},
   "outputs": [
    {
     "data": {
      "text/plain": [
       "0"
      ]
     },
     "execution_count": 32,
     "metadata": {},
     "output_type": "execute_result"
    }
   ],
   "source": [
    "a // b"
   ]
  },
  {
   "cell_type": "code",
   "execution_count": 33,
   "id": "863fbbf7",
   "metadata": {},
   "outputs": [
    {
     "data": {
      "text/plain": [
       "23"
      ]
     },
     "execution_count": 33,
     "metadata": {},
     "output_type": "execute_result"
    }
   ],
   "source": [
    "a % b"
   ]
  },
  {
   "cell_type": "markdown",
   "id": "051f4cbd",
   "metadata": {},
   "source": [
    "# Logical Operator"
   ]
  },
  {
   "cell_type": "code",
   "execution_count": 37,
   "id": "6f71aaf2",
   "metadata": {},
   "outputs": [
    {
     "data": {
      "text/plain": [
       "1.0454545454545454"
      ]
     },
     "execution_count": 37,
     "metadata": {},
     "output_type": "execute_result"
    }
   ],
   "source": [
    "23 / 22"
   ]
  },
  {
   "cell_type": "code",
   "execution_count": 38,
   "id": "f026988e",
   "metadata": {},
   "outputs": [
    {
     "data": {
      "text/plain": [
       "1"
      ]
     },
     "execution_count": 38,
     "metadata": {},
     "output_type": "execute_result"
    }
   ],
   "source": [
    "23 % 22"
   ]
  },
  {
   "cell_type": "code",
   "execution_count": 39,
   "id": "6dae1613",
   "metadata": {},
   "outputs": [
    {
     "data": {
      "text/plain": [
       "22"
      ]
     },
     "execution_count": 39,
     "metadata": {},
     "output_type": "execute_result"
    }
   ],
   "source": [
    "22%23"
   ]
  },
  {
   "cell_type": "code",
   "execution_count": 47,
   "id": "c3d84abe",
   "metadata": {},
   "outputs": [
    {
     "data": {
      "text/plain": [
       "2081954148288"
      ]
     },
     "execution_count": 47,
     "metadata": {},
     "output_type": "execute_result"
    }
   ],
   "source": [
    "l = ([2,3,4],'Sudhan')\n",
    "id(l)"
   ]
  },
  {
   "cell_type": "code",
   "execution_count": 41,
   "id": "5caedd73",
   "metadata": {},
   "outputs": [
    {
     "data": {
      "text/plain": [
       "tuple"
      ]
     },
     "execution_count": 41,
     "metadata": {},
     "output_type": "execute_result"
    }
   ],
   "source": [
    "type(l)"
   ]
  },
  {
   "cell_type": "code",
   "execution_count": null,
   "id": "ce448846",
   "metadata": {},
   "outputs": [],
   "source": [
    "[2,3,4]\n",
    "2,3,4\n",
    "2"
   ]
  },
  {
   "cell_type": "code",
   "execution_count": 44,
   "id": "e1c88ebb",
   "metadata": {},
   "outputs": [
    {
     "data": {
      "text/plain": [
       "list"
      ]
     },
     "execution_count": 44,
     "metadata": {},
     "output_type": "execute_result"
    }
   ],
   "source": [
    "type(l[0])"
   ]
  },
  {
   "cell_type": "code",
   "execution_count": 43,
   "id": "9b04141d",
   "metadata": {},
   "outputs": [
    {
     "data": {
      "text/plain": [
       "2"
      ]
     },
     "execution_count": 43,
     "metadata": {},
     "output_type": "execute_result"
    }
   ],
   "source": [
    "l[0][0]"
   ]
  },
  {
   "cell_type": "code",
   "execution_count": 48,
   "id": "a18b6e08",
   "metadata": {},
   "outputs": [],
   "source": [
    "l[0].append(\"haha\")"
   ]
  },
  {
   "cell_type": "code",
   "execution_count": 49,
   "id": "c7c655bc",
   "metadata": {},
   "outputs": [
    {
     "data": {
      "text/plain": [
       "2081954148288"
      ]
     },
     "execution_count": 49,
     "metadata": {},
     "output_type": "execute_result"
    }
   ],
   "source": [
    "id(l)"
   ]
  },
  {
   "cell_type": "code",
   "execution_count": null,
   "id": "da98e596",
   "metadata": {},
   "outputs": [],
   "source": [
    "2081954148288\n"
   ]
  },
  {
   "cell_type": "markdown",
   "id": "61db4fb6",
   "metadata": {},
   "source": [
    "# membership"
   ]
  },
  {
   "cell_type": "code",
   "execution_count": 50,
   "id": "9e8ae4fd",
   "metadata": {},
   "outputs": [],
   "source": [
    "a = ['yogesh','Pavan', 'Vijay']"
   ]
  },
  {
   "cell_type": "code",
   "execution_count": 51,
   "id": "84b8c27d",
   "metadata": {},
   "outputs": [
    {
     "data": {
      "text/plain": [
       "True"
      ]
     },
     "execution_count": 51,
     "metadata": {},
     "output_type": "execute_result"
    }
   ],
   "source": [
    "'Pavan' in a"
   ]
  },
  {
   "cell_type": "code",
   "execution_count": 53,
   "id": "85349d36",
   "metadata": {},
   "outputs": [
    {
     "data": {
      "text/plain": [
       "True"
      ]
     },
     "execution_count": 53,
     "metadata": {},
     "output_type": "execute_result"
    }
   ],
   "source": [
    "'Yogesh' not in a"
   ]
  },
  {
   "cell_type": "markdown",
   "id": "b2bd2352",
   "metadata": {},
   "source": [
    "# Logical operator"
   ]
  },
  {
   "cell_type": "code",
   "execution_count": null,
   "id": "87fb2b4b",
   "metadata": {},
   "outputs": [],
   "source": [
    "and or not"
   ]
  },
  {
   "cell_type": "code",
   "execution_count": 54,
   "id": "fe938818",
   "metadata": {},
   "outputs": [],
   "source": [
    "a = 1\n",
    "b = 0"
   ]
  },
  {
   "cell_type": "code",
   "execution_count": 55,
   "id": "68d4f326",
   "metadata": {},
   "outputs": [
    {
     "data": {
      "text/plain": [
       "0"
      ]
     },
     "execution_count": 55,
     "metadata": {},
     "output_type": "execute_result"
    }
   ],
   "source": [
    "a and b"
   ]
  },
  {
   "cell_type": "code",
   "execution_count": 56,
   "id": "283f7471",
   "metadata": {},
   "outputs": [
    {
     "data": {
      "text/plain": [
       "1"
      ]
     },
     "execution_count": 56,
     "metadata": {},
     "output_type": "execute_result"
    }
   ],
   "source": [
    "a or b"
   ]
  },
  {
   "cell_type": "code",
   "execution_count": 57,
   "id": "b6271f1c",
   "metadata": {},
   "outputs": [
    {
     "data": {
      "text/plain": [
       "False"
      ]
     },
     "execution_count": 57,
     "metadata": {},
     "output_type": "execute_result"
    }
   ],
   "source": [
    "not(a)"
   ]
  },
  {
   "cell_type": "code",
   "execution_count": 58,
   "id": "20a42ffc",
   "metadata": {},
   "outputs": [
    {
     "data": {
      "text/plain": [
       "True"
      ]
     },
     "execution_count": 58,
     "metadata": {},
     "output_type": "execute_result"
    }
   ],
   "source": [
    "not(b)"
   ]
  },
  {
   "cell_type": "markdown",
   "id": "3c7bea20",
   "metadata": {},
   "source": [
    "Assignment operator"
   ]
  },
  {
   "cell_type": "code",
   "execution_count": null,
   "id": "ad7c8231",
   "metadata": {},
   "outputs": [],
   "source": [
    "     \"=\""
   ]
  },
  {
   "cell_type": "code",
   "execution_count": 59,
   "id": "47e6c7b8",
   "metadata": {},
   "outputs": [],
   "source": [
    "count = 1"
   ]
  },
  {
   "cell_type": "code",
   "execution_count": 60,
   "id": "00376462",
   "metadata": {},
   "outputs": [],
   "source": [
    "count = count + 2"
   ]
  },
  {
   "cell_type": "code",
   "execution_count": 61,
   "id": "f6fb20cd",
   "metadata": {},
   "outputs": [
    {
     "data": {
      "text/plain": [
       "3"
      ]
     },
     "execution_count": 61,
     "metadata": {},
     "output_type": "execute_result"
    }
   ],
   "source": [
    "count"
   ]
  },
  {
   "cell_type": "code",
   "execution_count": 62,
   "id": "bc877445",
   "metadata": {},
   "outputs": [],
   "source": [
    "count += 1"
   ]
  },
  {
   "cell_type": "code",
   "execution_count": 63,
   "id": "e623ee1d",
   "metadata": {},
   "outputs": [
    {
     "data": {
      "text/plain": [
       "4"
      ]
     },
     "execution_count": 63,
     "metadata": {},
     "output_type": "execute_result"
    }
   ],
   "source": [
    "count"
   ]
  },
  {
   "cell_type": "code",
   "execution_count": 64,
   "id": "31c60fe9",
   "metadata": {},
   "outputs": [],
   "source": [
    "count -= 1"
   ]
  },
  {
   "cell_type": "code",
   "execution_count": 65,
   "id": "4a8b82db",
   "metadata": {},
   "outputs": [
    {
     "data": {
      "text/plain": [
       "3"
      ]
     },
     "execution_count": 65,
     "metadata": {},
     "output_type": "execute_result"
    }
   ],
   "source": [
    "count"
   ]
  },
  {
   "cell_type": "code",
   "execution_count": 66,
   "id": "ad88b3cb",
   "metadata": {},
   "outputs": [],
   "source": [
    "count *= 5"
   ]
  },
  {
   "cell_type": "code",
   "execution_count": 67,
   "id": "eb523c8d",
   "metadata": {},
   "outputs": [
    {
     "data": {
      "text/plain": [
       "15"
      ]
     },
     "execution_count": 67,
     "metadata": {},
     "output_type": "execute_result"
    }
   ],
   "source": [
    "count"
   ]
  },
  {
   "cell_type": "code",
   "execution_count": 68,
   "id": "d5335b41",
   "metadata": {},
   "outputs": [],
   "source": [
    "count /= 3"
   ]
  },
  {
   "cell_type": "code",
   "execution_count": 69,
   "id": "a5c9aed2",
   "metadata": {},
   "outputs": [
    {
     "data": {
      "text/plain": [
       "5.0"
      ]
     },
     "execution_count": 69,
     "metadata": {},
     "output_type": "execute_result"
    }
   ],
   "source": [
    "count"
   ]
  },
  {
   "cell_type": "markdown",
   "id": "b43e6c3d",
   "metadata": {},
   "source": [
    "# conditional Statements"
   ]
  },
  {
   "cell_type": "code",
   "execution_count": 72,
   "id": "c2da9359",
   "metadata": {},
   "outputs": [],
   "source": [
    "if count < 6:\n",
    "    print(count)\n",
    "else:\n",
    "    count = 4"
   ]
  },
  {
   "cell_type": "code",
   "execution_count": 71,
   "id": "e745671c",
   "metadata": {},
   "outputs": [],
   "source": [
    "count =15"
   ]
  },
  {
   "cell_type": "code",
   "execution_count": 73,
   "id": "eae1ef43",
   "metadata": {},
   "outputs": [
    {
     "data": {
      "text/plain": [
       "4"
      ]
     },
     "execution_count": 73,
     "metadata": {},
     "output_type": "execute_result"
    }
   ],
   "source": [
    "count"
   ]
  },
  {
   "cell_type": "code",
   "execution_count": null,
   "id": "5d485ff5",
   "metadata": {},
   "outputs": [],
   "source": [
    "if condition :\n",
    "    # statement\n",
    "elif conditon:\n",
    "    #statement\n",
    "else:\n",
    "    #statement"
   ]
  },
  {
   "cell_type": "code",
   "execution_count": 75,
   "id": "1f594090",
   "metadata": {},
   "outputs": [
    {
     "data": {
      "text/plain": [
       "[0, 1, 2, 3, 4, 5, 6, 7, 8, 9]"
      ]
     },
     "execution_count": 75,
     "metadata": {},
     "output_type": "execute_result"
    }
   ],
   "source": [
    "list(range(10))"
   ]
  },
  {
   "cell_type": "code",
   "execution_count": 76,
   "id": "b4fd20f4",
   "metadata": {},
   "outputs": [],
   "source": [
    "count = 0\n",
    "ocount = 0\n",
    "for i in range(10):\n",
    "    if i%2 == 0:\n",
    "        count +=1\n",
    "    else:\n",
    "        ocount += 1"
   ]
  },
  {
   "cell_type": "code",
   "execution_count": 77,
   "id": "2f4d47eb",
   "metadata": {
    "scrolled": true
   },
   "outputs": [
    {
     "data": {
      "text/plain": [
       "5"
      ]
     },
     "execution_count": 77,
     "metadata": {},
     "output_type": "execute_result"
    }
   ],
   "source": [
    "count"
   ]
  },
  {
   "cell_type": "code",
   "execution_count": 78,
   "id": "bc582596",
   "metadata": {},
   "outputs": [
    {
     "data": {
      "text/plain": [
       "5"
      ]
     },
     "execution_count": 78,
     "metadata": {},
     "output_type": "execute_result"
    }
   ],
   "source": [
    "ocount"
   ]
  },
  {
   "cell_type": "code",
   "execution_count": null,
   "id": "4afbfeff",
   "metadata": {},
   "outputs": [],
   "source": [
    "1 using google drive\n",
    "2 using github"
   ]
  }
 ],
 "metadata": {
  "kernelspec": {
   "display_name": "Python 3 (ipykernel)",
   "language": "python",
   "name": "python3"
  },
  "language_info": {
   "codemirror_mode": {
    "name": "ipython",
    "version": 3
   },
   "file_extension": ".py",
   "mimetype": "text/x-python",
   "name": "python",
   "nbconvert_exporter": "python",
   "pygments_lexer": "ipython3",
   "version": "3.9.7"
  }
 },
 "nbformat": 4,
 "nbformat_minor": 5
}
